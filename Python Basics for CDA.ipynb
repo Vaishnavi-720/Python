{
 "cells": [
  {
   "cell_type": "markdown",
   "id": "d9c68b05",
   "metadata": {},
   "source": [
    "## Operators"
   ]
  },
  {
   "cell_type": "markdown",
   "id": "fddd0f6d",
   "metadata": {},
   "source": [
    "### Arithmatic operators"
   ]
  },
  {
   "cell_type": "code",
   "execution_count": 1,
   "id": "27addf8f",
   "metadata": {},
   "outputs": [],
   "source": [
    "a = 5\n",
    "b = 2\n",
    "x = 'Data'\n",
    "y = 'Analytics'"
   ]
  },
  {
   "cell_type": "code",
   "execution_count": 3,
   "id": "2e39aa4a",
   "metadata": {},
   "outputs": [
    {
     "name": "stdout",
     "output_type": "stream",
     "text": [
      "7\n"
     ]
    }
   ],
   "source": [
    "#Addition\n",
    "c = a + b\n",
    "print(c)"
   ]
  },
  {
   "cell_type": "code",
   "execution_count": 4,
   "id": "3d876149",
   "metadata": {},
   "outputs": [
    {
     "name": "stdout",
     "output_type": "stream",
     "text": [
      "3\n"
     ]
    }
   ],
   "source": [
    "#Substraction\n",
    "d = a - b\n",
    "print(d)"
   ]
  },
  {
   "cell_type": "code",
   "execution_count": 6,
   "id": "4038c79f",
   "metadata": {},
   "outputs": [
    {
     "name": "stdout",
     "output_type": "stream",
     "text": [
      "10\n"
     ]
    }
   ],
   "source": [
    "#multiplication\n",
    "c = a * b\n",
    "print(c)"
   ]
  },
  {
   "cell_type": "code",
   "execution_count": 7,
   "id": "e4aaf373",
   "metadata": {},
   "outputs": [
    {
     "name": "stdout",
     "output_type": "stream",
     "text": [
      "2.5\n"
     ]
    }
   ],
   "source": [
    "#division\n",
    "c = a / b\n",
    "print(c)"
   ]
  },
  {
   "cell_type": "code",
   "execution_count": 9,
   "id": "808c2203",
   "metadata": {},
   "outputs": [
    {
     "name": "stdout",
     "output_type": "stream",
     "text": [
      "25\n"
     ]
    }
   ],
   "source": [
    "#Power\n",
    "c = a ** b\n",
    "print(c)"
   ]
  },
  {
   "cell_type": "code",
   "execution_count": 10,
   "id": "05d5a74e",
   "metadata": {},
   "outputs": [
    {
     "name": "stdout",
     "output_type": "stream",
     "text": [
      "DataAnalytics\n"
     ]
    }
   ],
   "source": [
    "#concatenation \n",
    "c = x + y\n",
    "print(c)"
   ]
  },
  {
   "cell_type": "code",
   "execution_count": 11,
   "id": "f1915d17",
   "metadata": {},
   "outputs": [
    {
     "name": "stdout",
     "output_type": "stream",
     "text": [
      "2\n"
     ]
    }
   ],
   "source": [
    "#floorDivision take integer part of \n",
    "c = a // b\n",
    "print(c)"
   ]
  },
  {
   "cell_type": "markdown",
   "id": "d30999a8",
   "metadata": {},
   "source": [
    "### Comparision Operators"
   ]
  },
  {
   "cell_type": "code",
   "execution_count": 20,
   "id": "e333fcca",
   "metadata": {},
   "outputs": [
    {
     "name": "stdout",
     "output_type": "stream",
     "text": [
      "greater than y --> False\n",
      "less than y --> True\n",
      "greater than equals to y --> False\n",
      "less than equals to y --> True\n",
      "equals to y --> False\n",
      "not equals to y --> True\n"
     ]
    }
   ],
   "source": [
    "x = 20\n",
    "y = 30\n",
    "\n",
    "print('x greater than y -->', x > y) \n",
    "print('less than y -->', x < y)\n",
    "print('greater than equals to y -->', x >= y)\n",
    "print('less than equals to y -->', x <= y)\n",
    "print('equals to y -->', x == y)\n",
    "print('not equals to y -->', x != y)"
   ]
  },
  {
   "cell_type": "markdown",
   "id": "10a6abb5",
   "metadata": {},
   "source": [
    "### Logical Operators"
   ]
  },
  {
   "cell_type": "code",
   "execution_count": 22,
   "id": "3f10f23f",
   "metadata": {},
   "outputs": [
    {
     "name": "stdout",
     "output_type": "stream",
     "text": [
      "Logical AND Operation --> False\n",
      "Logical OR Operation --> True\n",
      "NOT Operation --> True\n"
     ]
    }
   ],
   "source": [
    "x = True\n",
    "y = False\n",
    "\n",
    "print(\"Logical AND Operation -->\", x and y)\n",
    "print(\"Logical OR Operation -->\", x or y)\n",
    "print(\"NOT Operation -->\",  not y)"
   ]
  },
  {
   "cell_type": "markdown",
   "id": "5278505e",
   "metadata": {},
   "source": [
    "### If Conditional Statement "
   ]
  },
  {
   "cell_type": "code",
   "execution_count": 23,
   "id": "bbc38278",
   "metadata": {},
   "outputs": [
    {
     "name": "stdout",
     "output_type": "stream",
     "text": [
      "Learning Conditional Statements\n",
      "It's easy\n"
     ]
    }
   ],
   "source": [
    "a = 7\n",
    "\n",
    "if a > 5 :\n",
    "    print(\"Learning Conditional Statements\")\n",
    "print(\"It's easy\")"
   ]
  },
  {
   "cell_type": "code",
   "execution_count": 24,
   "id": "b81c5d79",
   "metadata": {},
   "outputs": [
    {
     "name": "stdout",
     "output_type": "stream",
     "text": [
      "in else block\n"
     ]
    }
   ],
   "source": [
    "a = -88\n",
    "\n",
    "if a > 0 :\n",
    "    print(\"inside if block\")\n",
    "else :\n",
    "    print(\"in else block\")"
   ]
  },
  {
   "cell_type": "markdown",
   "id": "f8005e61",
   "metadata": {},
   "source": [
    "### input Function"
   ]
  },
  {
   "cell_type": "code",
   "execution_count": 25,
   "id": "84c1cafe",
   "metadata": {},
   "outputs": [
    {
     "name": "stdout",
     "output_type": "stream",
     "text": [
      "enter your school name : D.R.Girls School\n"
     ]
    }
   ],
   "source": [
    "a = input(\"enter your school name : \")"
   ]
  },
  {
   "cell_type": "code",
   "execution_count": 26,
   "id": "82ae1e6b",
   "metadata": {},
   "outputs": [
    {
     "data": {
      "text/plain": [
       "'D.R.Girls School'"
      ]
     },
     "execution_count": 26,
     "metadata": {},
     "output_type": "execute_result"
    }
   ],
   "source": [
    "a"
   ]
  },
  {
   "cell_type": "code",
   "execution_count": 28,
   "id": "5a6ded08",
   "metadata": {},
   "outputs": [
    {
     "name": "stdout",
     "output_type": "stream",
     "text": [
      "enter your 10th percetage : 86\n"
     ]
    }
   ],
   "source": [
    "a = int(input(\"enter your 10th percetage : \"))"
   ]
  },
  {
   "cell_type": "code",
   "execution_count": 29,
   "id": "b35695e6",
   "metadata": {},
   "outputs": [
    {
     "data": {
      "text/plain": [
       "86"
      ]
     },
     "execution_count": 29,
     "metadata": {},
     "output_type": "execute_result"
    }
   ],
   "source": [
    "a"
   ]
  },
  {
   "cell_type": "code",
   "execution_count": 33,
   "id": "af6d59ac",
   "metadata": {},
   "outputs": [
    {
     "name": "stdout",
     "output_type": "stream",
     "text": [
      "Enter your 12th percentage96\n",
      "Congratulations, you are allowed for tier 1 collegage\n"
     ]
    }
   ],
   "source": [
    "a = int(input(\"Enter your 12th percentage\"))\n",
    "if(a<60):\n",
    "    print(\"Congratulations, you are allowed for tier 3 collegage\")\n",
    "elif(a==80):\n",
    "    print(\"Congratulations, you are allowed for tier 2 collegage\")\n",
    "elif(a>80):\n",
    "    print(\"Congratulations, you are allowed for tier 1 collegage\")\n",
    "else :\n",
    "    print(\"you're not eligible\")"
   ]
  },
  {
   "cell_type": "code",
   "execution_count": 35,
   "id": "5bdd18a9",
   "metadata": {},
   "outputs": [
    {
     "name": "stdout",
     "output_type": "stream",
     "text": [
      "enter a number25\n",
      "its not in range\n"
     ]
    }
   ],
   "source": [
    "a = int(input(\"enter a number\"))\n",
    "if(a == 10):\n",
    "    print(a, \"a is smaller than 20\")\n",
    "    if(a > 10):\n",
    "        print(a, \"a is greater than 10\")\n",
    "else:\n",
    "    print(\"its not in range\")"
   ]
  },
  {
   "cell_type": "code",
   "execution_count": 70,
   "id": "849f6a69",
   "metadata": {},
   "outputs": [
    {
     "name": "stdout",
     "output_type": "stream",
     "text": [
      "enter a number54\n",
      "Its even number\n"
     ]
    }
   ],
   "source": [
    "a = int(input(\"enter a number\"))\n",
    "if(a % 2 == 0):\n",
    "    print(\"Its even number\")\n",
    "else : \n",
    "    print(\"Odd Number\")"
   ]
  },
  {
   "cell_type": "markdown",
   "id": "b2eb40dc",
   "metadata": {},
   "source": [
    "## Datetime Package"
   ]
  },
  {
   "cell_type": "markdown",
   "id": "d9bde736",
   "metadata": {},
   "source": [
    "#### date sub module"
   ]
  },
  {
   "cell_type": "code",
   "execution_count": 36,
   "id": "bbf6a601",
   "metadata": {},
   "outputs": [],
   "source": [
    "from datetime import date"
   ]
  },
  {
   "cell_type": "code",
   "execution_count": 37,
   "id": "e4b0ea3e",
   "metadata": {},
   "outputs": [],
   "source": [
    "new_date = date(1998,9,21)"
   ]
  },
  {
   "cell_type": "code",
   "execution_count": 38,
   "id": "deb18992",
   "metadata": {},
   "outputs": [
    {
     "data": {
      "text/plain": [
       "datetime.date(1998, 9, 21)"
      ]
     },
     "execution_count": 38,
     "metadata": {},
     "output_type": "execute_result"
    }
   ],
   "source": [
    "new_date"
   ]
  },
  {
   "cell_type": "code",
   "execution_count": 40,
   "id": "774ce66f",
   "metadata": {},
   "outputs": [
    {
     "data": {
      "text/plain": [
       "datetime.date(2024, 5, 15)"
      ]
     },
     "execution_count": 40,
     "metadata": {},
     "output_type": "execute_result"
    }
   ],
   "source": [
    "#today's date\n",
    "today_date = date.today()\n",
    "today_date"
   ]
  },
  {
   "cell_type": "code",
   "execution_count": 41,
   "id": "8ec6745e",
   "metadata": {},
   "outputs": [
    {
     "data": {
      "text/plain": [
       "3"
      ]
     },
     "execution_count": 41,
     "metadata": {},
     "output_type": "execute_result"
    }
   ],
   "source": [
    "today_date.isoweekday()"
   ]
  },
  {
   "cell_type": "code",
   "execution_count": 44,
   "id": "f8022425",
   "metadata": {},
   "outputs": [
    {
     "data": {
      "text/plain": [
       "5"
      ]
     },
     "execution_count": 44,
     "metadata": {},
     "output_type": "execute_result"
    }
   ],
   "source": [
    "today_date.month"
   ]
  },
  {
   "cell_type": "code",
   "execution_count": 45,
   "id": "f3099bab",
   "metadata": {},
   "outputs": [
    {
     "data": {
      "text/plain": [
       "2024"
      ]
     },
     "execution_count": 45,
     "metadata": {},
     "output_type": "execute_result"
    }
   ],
   "source": [
    "today_date.year"
   ]
  },
  {
   "cell_type": "markdown",
   "id": "00a9b63b",
   "metadata": {},
   "source": [
    "#### datetime submodule"
   ]
  },
  {
   "cell_type": "code",
   "execution_count": 47,
   "id": "ebf35f30",
   "metadata": {},
   "outputs": [],
   "source": [
    "from datetime import datetime as dt"
   ]
  },
  {
   "cell_type": "code",
   "execution_count": 49,
   "id": "3bd5cb0d",
   "metadata": {},
   "outputs": [
    {
     "data": {
      "text/plain": [
       "datetime.datetime(2024, 5, 15, 13, 23, 33, 846492)"
      ]
     },
     "execution_count": 49,
     "metadata": {},
     "output_type": "execute_result"
    }
   ],
   "source": [
    "date1 = dt.now()\n",
    "date1"
   ]
  },
  {
   "cell_type": "code",
   "execution_count": 50,
   "id": "ff9f54f2",
   "metadata": {
    "collapsed": true
   },
   "outputs": [
    {
     "ename": "TypeError",
     "evalue": "unbound method datetime.date() needs an argument",
     "output_type": "error",
     "traceback": [
      "\u001b[1;31m---------------------------------------------------------------------------\u001b[0m",
      "\u001b[1;31mTypeError\u001b[0m                                 Traceback (most recent call last)",
      "Cell \u001b[1;32mIn[50], line 1\u001b[0m\n\u001b[1;32m----> 1\u001b[0m dt\u001b[38;5;241m.\u001b[39mdate()\n",
      "\u001b[1;31mTypeError\u001b[0m: unbound method datetime.date() needs an argument"
     ]
    }
   ],
   "source": [
    "dt.date()"
   ]
  },
  {
   "cell_type": "markdown",
   "id": "e00afd23",
   "metadata": {},
   "source": [
    "#### time submodule"
   ]
  },
  {
   "cell_type": "code",
   "execution_count": 51,
   "id": "1132763c",
   "metadata": {},
   "outputs": [],
   "source": [
    "from datetime import time"
   ]
  },
  {
   "cell_type": "code",
   "execution_count": 53,
   "id": "57fd2ce7",
   "metadata": {},
   "outputs": [],
   "source": [
    "my_time = time(7,8,55)"
   ]
  },
  {
   "cell_type": "code",
   "execution_count": 54,
   "id": "2dfeb609",
   "metadata": {},
   "outputs": [
    {
     "data": {
      "text/plain": [
       "datetime.time(7, 8, 55)"
      ]
     },
     "execution_count": 54,
     "metadata": {},
     "output_type": "execute_result"
    }
   ],
   "source": [
    "my_time"
   ]
  },
  {
   "cell_type": "markdown",
   "id": "608e7cff",
   "metadata": {},
   "source": [
    "#### timedelta "
   ]
  },
  {
   "cell_type": "code",
   "execution_count": 55,
   "id": "eaf7d119",
   "metadata": {},
   "outputs": [],
   "source": [
    "from datetime import date, timedelta"
   ]
  },
  {
   "cell_type": "code",
   "execution_count": 57,
   "id": "a7b1dd4b",
   "metadata": {},
   "outputs": [
    {
     "data": {
      "text/plain": [
       "datetime.date(2026, 5, 15)"
      ]
     },
     "execution_count": 57,
     "metadata": {},
     "output_type": "execute_result"
    }
   ],
   "source": [
    "current_date = date.today()\n",
    "\n",
    "future_date_after_2_years = current_date + timedelta(days=730)\n",
    "future_date_after_2_years"
   ]
  },
  {
   "cell_type": "code",
   "execution_count": 72,
   "id": "5280ae69",
   "metadata": {},
   "outputs": [],
   "source": [
    "from datetime import date, timedelta"
   ]
  },
  {
   "cell_type": "code",
   "execution_count": 74,
   "id": "bf5524ef",
   "metadata": {},
   "outputs": [
    {
     "data": {
      "text/plain": [
       "datetime.timedelta(days=8774)"
      ]
     },
     "execution_count": 74,
     "metadata": {},
     "output_type": "execute_result"
    }
   ],
   "source": [
    "current_date = date.today()\n",
    "\n",
    "birth_date = date(2000,5,7)\n",
    "birth_date\n",
    "my_age =current_date - birth_date\n",
    "my_age"
   ]
  },
  {
   "cell_type": "code",
   "execution_count": null,
   "id": "d7a601cd",
   "metadata": {},
   "outputs": [],
   "source": [
    "#Task : \n",
    "    #calculate your age after 5000 days\n",
    "    #output or age should be in years"
   ]
  },
  {
   "cell_type": "code",
   "execution_count": 77,
   "id": "4d276e60",
   "metadata": {},
   "outputs": [
    {
     "data": {
      "text/plain": [
       "37"
      ]
     },
     "execution_count": 77,
     "metadata": {},
     "output_type": "execute_result"
    }
   ],
   "source": [
    "current_date = date.today()\n",
    "\n",
    "birth_date = date(2000,5,7)\n",
    "birth_date\n",
    "my_age =current_date - birth_date\n",
    "age_after_5000_days = my_age + timedelta(days=5000)\n",
    "age_after_5000_days\n",
    "age_5k = age_after_5000_days // timedelta(days=365)\n",
    "age_5k"
   ]
  },
  {
   "cell_type": "code",
   "execution_count": 81,
   "id": "a6bf78a2",
   "metadata": {},
   "outputs": [
    {
     "ename": "TypeError",
     "evalue": "unsupported operand type(s) for //: 'datetime.date' and 'datetime.timedelta'",
     "output_type": "error",
     "traceback": [
      "\u001b[1;31m---------------------------------------------------------------------------\u001b[0m",
      "\u001b[1;31mTypeError\u001b[0m                                 Traceback (most recent call last)",
      "Cell \u001b[1;32mIn[81], line 5\u001b[0m\n\u001b[0;32m      3\u001b[0m birth_date \u001b[38;5;241m=\u001b[39m date(\u001b[38;5;241m2000\u001b[39m,\u001b[38;5;241m5\u001b[39m,\u001b[38;5;241m7\u001b[39m)\n\u001b[0;32m      4\u001b[0m age_new \u001b[38;5;241m=\u001b[39m birth_date \u001b[38;5;241m+\u001b[39m timedelta(days\u001b[38;5;241m=\u001b[39m\u001b[38;5;241m5000\u001b[39m)\n\u001b[1;32m----> 5\u001b[0m age_5Kk \u001b[38;5;241m=\u001b[39m age_new \u001b[38;5;241m/\u001b[39m\u001b[38;5;241m/\u001b[39m timedelta(days\u001b[38;5;241m=\u001b[39m\u001b[38;5;241m365\u001b[39m)\n\u001b[0;32m      6\u001b[0m age_5Kk\n",
      "\u001b[1;31mTypeError\u001b[0m: unsupported operand type(s) for //: 'datetime.date' and 'datetime.timedelta'"
     ]
    }
   ],
   "source": [
    "current_date = date.today()\n",
    "\n",
    "birth_date = date(2000,5,7)\n",
    "age_new = birth_date + timedelta(days=5000)\n",
    "age_5Kk = age_new // timedelta(days=365)\n",
    "age_5Kk"
   ]
  },
  {
   "cell_type": "code",
   "execution_count": null,
   "id": "f3de4397",
   "metadata": {},
   "outputs": [],
   "source": []
  }
 ],
 "metadata": {
  "kernelspec": {
   "display_name": "Python 3 (ipykernel)",
   "language": "python",
   "name": "python3"
  },
  "language_info": {
   "codemirror_mode": {
    "name": "ipython",
    "version": 3
   },
   "file_extension": ".py",
   "mimetype": "text/x-python",
   "name": "python",
   "nbconvert_exporter": "python",
   "pygments_lexer": "ipython3",
   "version": "3.11.4"
  }
 },
 "nbformat": 4,
 "nbformat_minor": 5
}
