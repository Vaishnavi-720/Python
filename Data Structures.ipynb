{
 "cells": [
  {
   "cell_type": "markdown",
   "id": "1081f546",
   "metadata": {},
   "source": [
    "### Data Structures"
   ]
  },
  {
   "cell_type": "markdown",
   "id": "77532f86",
   "metadata": {},
   "source": [
    "### List"
   ]
  },
  {
   "cell_type": "code",
   "execution_count": 1,
   "id": "03dfebbb",
   "metadata": {},
   "outputs": [],
   "source": [
    "#List creation\n",
    "l1 = []  # empty list"
   ]
  },
  {
   "cell_type": "code",
   "execution_count": 2,
   "id": "f43b0b04",
   "metadata": {},
   "outputs": [
    {
     "data": {
      "text/plain": [
       "list"
      ]
     },
     "execution_count": 2,
     "metadata": {},
     "output_type": "execute_result"
    }
   ],
   "source": [
    "type(l1)"
   ]
  },
  {
   "cell_type": "code",
   "execution_count": 3,
   "id": "9e7d051b",
   "metadata": {},
   "outputs": [
    {
     "data": {
      "text/plain": [
       "['Vaish', 'Krish', 'Om', 'Gayatri', 'Aditi']"
      ]
     },
     "execution_count": 3,
     "metadata": {},
     "output_type": "execute_result"
    }
   ],
   "source": [
    "Group = ['Vaish', 'Krish', 'Om', 'Gayatri', 'Aditi']\n",
    "Group"
   ]
  },
  {
   "cell_type": "markdown",
   "id": "3516fff5",
   "metadata": {},
   "source": [
    "### Add Remove & change Items"
   ]
  },
  {
   "cell_type": "code",
   "execution_count": 4,
   "id": "36dcb42b",
   "metadata": {},
   "outputs": [],
   "source": [
    "Group.append('Ram')"
   ]
  },
  {
   "cell_type": "code",
   "execution_count": 5,
   "id": "1d2dde5b",
   "metadata": {},
   "outputs": [
    {
     "data": {
      "text/plain": [
       "['Vaish', 'Krish', 'Om', 'Gayatri', 'Aditi', 'Ram']"
      ]
     },
     "execution_count": 5,
     "metadata": {},
     "output_type": "execute_result"
    }
   ],
   "source": [
    "Group"
   ]
  },
  {
   "cell_type": "code",
   "execution_count": 6,
   "id": "53216bcc",
   "metadata": {},
   "outputs": [],
   "source": [
    "Group.insert(2,'Komal')"
   ]
  },
  {
   "cell_type": "code",
   "execution_count": 11,
   "id": "90aac6fb",
   "metadata": {},
   "outputs": [
    {
     "data": {
      "text/plain": [
       "['Vaish', 'Krish', 'Komal', 'Om', 'Gayatri', 'Aditi', 'Ram']"
      ]
     },
     "execution_count": 11,
     "metadata": {},
     "output_type": "execute_result"
    }
   ],
   "source": [
    "Group"
   ]
  },
  {
   "cell_type": "code",
   "execution_count": 14,
   "id": "9ca66587",
   "metadata": {},
   "outputs": [],
   "source": [
    "Group.extend(['Sujit', 'Sumit', 'Priya'])"
   ]
  },
  {
   "cell_type": "code",
   "execution_count": 15,
   "id": "53741774",
   "metadata": {},
   "outputs": [
    {
     "data": {
      "text/plain": [
       "['Vaish',\n",
       " 'Krish',\n",
       " 'Komal',\n",
       " 'Om',\n",
       " 'Gayatri',\n",
       " 'Aditi',\n",
       " 'Ram',\n",
       " 'Sujit',\n",
       " 'Sumit',\n",
       " 'Priya']"
      ]
     },
     "execution_count": 15,
     "metadata": {},
     "output_type": "execute_result"
    }
   ],
   "source": [
    "Group"
   ]
  },
  {
   "cell_type": "markdown",
   "id": "6906f30f",
   "metadata": {},
   "source": [
    "#### Delete Elements"
   ]
  },
  {
   "cell_type": "code",
   "execution_count": 20,
   "id": "620770df",
   "metadata": {},
   "outputs": [
    {
     "data": {
      "text/plain": [
       "'Priya'"
      ]
     },
     "execution_count": 20,
     "metadata": {},
     "output_type": "execute_result"
    }
   ],
   "source": [
    "Group.pop()"
   ]
  },
  {
   "cell_type": "code",
   "execution_count": 21,
   "id": "370c89fe",
   "metadata": {},
   "outputs": [
    {
     "data": {
      "text/plain": [
       "['Vaish', 'Krish', 'Komal', 'Om', 'Gayatri', 'Aditi', 'Ram', 'Sujit', 'Sumit']"
      ]
     },
     "execution_count": 21,
     "metadata": {},
     "output_type": "execute_result"
    }
   ],
   "source": [
    "Group"
   ]
  },
  {
   "cell_type": "code",
   "execution_count": 23,
   "id": "e15511c7",
   "metadata": {},
   "outputs": [
    {
     "data": {
      "text/plain": [
       "['Vaish', 'Krish', 'Komal', 'Om', 'Gayatri', 'Aditi', 'Sumit']"
      ]
     },
     "execution_count": 23,
     "metadata": {},
     "output_type": "execute_result"
    }
   ],
   "source": [
    "Group.pop(6)\n",
    "Group"
   ]
  },
  {
   "cell_type": "code",
   "execution_count": 26,
   "id": "e0bcb5da",
   "metadata": {
    "collapsed": true
   },
   "outputs": [
    {
     "ename": "ValueError",
     "evalue": "list.remove(x): x not in list",
     "output_type": "error",
     "traceback": [
      "\u001b[1;31m---------------------------------------------------------------------------\u001b[0m",
      "\u001b[1;31mValueError\u001b[0m                                Traceback (most recent call last)",
      "Cell \u001b[1;32mIn[26], line 1\u001b[0m\n\u001b[1;32m----> 1\u001b[0m Group\u001b[38;5;241m.\u001b[39mremove(\u001b[38;5;124m'\u001b[39m\u001b[38;5;124mKomal\u001b[39m\u001b[38;5;124m'\u001b[39m)\n",
      "\u001b[1;31mValueError\u001b[0m: list.remove(x): x not in list"
     ]
    }
   ],
   "source": [
    "Group.remove('Komal')"
   ]
  },
  {
   "cell_type": "code",
   "execution_count": 28,
   "id": "53af0ba8",
   "metadata": {},
   "outputs": [
    {
     "data": {
      "text/plain": [
       "[]"
      ]
     },
     "execution_count": 28,
     "metadata": {},
     "output_type": "execute_result"
    }
   ],
   "source": [
    "Group.clear()\n",
    "Group"
   ]
  },
  {
   "cell_type": "code",
   "execution_count": 29,
   "id": "e281721c",
   "metadata": {},
   "outputs": [],
   "source": [
    "del Group"
   ]
  },
  {
   "cell_type": "code",
   "execution_count": 30,
   "id": "579daec3",
   "metadata": {},
   "outputs": [
    {
     "ename": "NameError",
     "evalue": "name 'Group' is not defined",
     "output_type": "error",
     "traceback": [
      "\u001b[1;31m---------------------------------------------------------------------------\u001b[0m",
      "\u001b[1;31mNameError\u001b[0m                                 Traceback (most recent call last)",
      "Cell \u001b[1;32mIn[30], line 1\u001b[0m\n\u001b[1;32m----> 1\u001b[0m Group\n",
      "\u001b[1;31mNameError\u001b[0m: name 'Group' is not defined"
     ]
    }
   ],
   "source": [
    "Group"
   ]
  },
  {
   "cell_type": "code",
   "execution_count": 27,
   "id": "853cd8b3",
   "metadata": {},
   "outputs": [
    {
     "data": {
      "text/plain": [
       "['Vaish', 'Krish', 'Om', 'Gayatri', 'Aditi', 'Sumit']"
      ]
     },
     "execution_count": 27,
     "metadata": {},
     "output_type": "execute_result"
    }
   ],
   "source": [
    "Group"
   ]
  },
  {
   "cell_type": "markdown",
   "id": "3398aaca",
   "metadata": {},
   "source": [
    "#### List indexing & slicing"
   ]
  },
  {
   "cell_type": "code",
   "execution_count": 17,
   "id": "2d3c50ba",
   "metadata": {},
   "outputs": [
    {
     "data": {
      "text/plain": [
       "['Vaish', 'Krish', 'Komal']"
      ]
     },
     "execution_count": 17,
     "metadata": {},
     "output_type": "execute_result"
    }
   ],
   "source": [
    "Group[0:3]"
   ]
  },
  {
   "cell_type": "code",
   "execution_count": 18,
   "id": "01b6d53f",
   "metadata": {},
   "outputs": [
    {
     "data": {
      "text/plain": [
       "'Aditi'"
      ]
     },
     "execution_count": 18,
     "metadata": {},
     "output_type": "execute_result"
    }
   ],
   "source": [
    "Group[5]"
   ]
  },
  {
   "cell_type": "code",
   "execution_count": 19,
   "id": "c51f541a",
   "metadata": {},
   "outputs": [
    {
     "data": {
      "text/plain": [
       "['Vaish', 'Komal', 'Gayatri']"
      ]
     },
     "execution_count": 19,
     "metadata": {},
     "output_type": "execute_result"
    }
   ],
   "source": [
    "Group[0:6:2]"
   ]
  },
  {
   "cell_type": "markdown",
   "id": "5c4987cb",
   "metadata": {},
   "source": [
    "### Join List"
   ]
  },
  {
   "cell_type": "code",
   "execution_count": 31,
   "id": "bf7ed634",
   "metadata": {},
   "outputs": [],
   "source": [
    "Group1 = ['Vaish', 'Krish', 'Om', 'Gayatri', 'Aditi']\n",
    "Group2 = ['Mau', 'Tau', 'Chakuli']"
   ]
  },
  {
   "cell_type": "code",
   "execution_count": 32,
   "id": "10dbbb4b",
   "metadata": {},
   "outputs": [
    {
     "data": {
      "text/plain": [
       "['Vaish', 'Krish', 'Om', 'Gayatri', 'Aditi', 'Mau', 'Tau', 'Chakuli']"
      ]
     },
     "execution_count": 32,
     "metadata": {},
     "output_type": "execute_result"
    }
   ],
   "source": [
    "Cousins = Group1 + Group2\n",
    "Cousins"
   ]
  },
  {
   "cell_type": "markdown",
   "id": "00a122ea",
   "metadata": {},
   "source": [
    "### List Membership"
   ]
  },
  {
   "cell_type": "code",
   "execution_count": 33,
   "id": "6a7c9e09",
   "metadata": {},
   "outputs": [
    {
     "data": {
      "text/plain": [
       "True"
      ]
     },
     "execution_count": 33,
     "metadata": {},
     "output_type": "execute_result"
    }
   ],
   "source": [
    "'Vaish' in Cousins "
   ]
  },
  {
   "cell_type": "code",
   "execution_count": 35,
   "id": "d3569b37",
   "metadata": {},
   "outputs": [
    {
     "data": {
      "text/plain": [
       "False"
      ]
     },
     "execution_count": 35,
     "metadata": {},
     "output_type": "execute_result"
    }
   ],
   "source": [
    "'Vaishnavi' in Cousins"
   ]
  },
  {
   "cell_type": "markdown",
   "id": "809d04da",
   "metadata": {},
   "source": [
    "### Reverse & sort list"
   ]
  },
  {
   "cell_type": "code",
   "execution_count": 36,
   "id": "5619d1b1",
   "metadata": {},
   "outputs": [
    {
     "data": {
      "text/plain": [
       "['Vaish', 'Krish', 'Om', 'Gayatri', 'Aditi', 'Mau', 'Tau', 'Chakuli']"
      ]
     },
     "execution_count": 36,
     "metadata": {},
     "output_type": "execute_result"
    }
   ],
   "source": [
    "Cousins"
   ]
  },
  {
   "cell_type": "code",
   "execution_count": 37,
   "id": "6373efa8",
   "metadata": {},
   "outputs": [
    {
     "data": {
      "text/plain": [
       "['Chakuli', 'Tau', 'Mau', 'Aditi', 'Gayatri', 'Om', 'Krish', 'Vaish']"
      ]
     },
     "execution_count": 37,
     "metadata": {},
     "output_type": "execute_result"
    }
   ],
   "source": [
    "Cousins.reverse()\n",
    "Cousins"
   ]
  },
  {
   "cell_type": "code",
   "execution_count": 39,
   "id": "bca86b51",
   "metadata": {},
   "outputs": [
    {
     "data": {
      "text/plain": [
       "['Aditi', 'Chakuli', 'Gayatri', 'Krish', 'Mau', 'Om', 'Tau', 'Vaish']"
      ]
     },
     "execution_count": 39,
     "metadata": {},
     "output_type": "execute_result"
    }
   ],
   "source": [
    "Cousins.sort()\n",
    "Cousins"
   ]
  },
  {
   "cell_type": "code",
   "execution_count": 41,
   "id": "967c64ee",
   "metadata": {},
   "outputs": [
    {
     "data": {
      "text/plain": [
       "['Vaish', 'Tau', 'Om', 'Mau', 'Krish', 'Gayatri', 'Chakuli', 'Aditi']"
      ]
     },
     "execution_count": 41,
     "metadata": {},
     "output_type": "execute_result"
    }
   ],
   "source": [
    "Cousins.sort(reverse = True)\n",
    "Cousins"
   ]
  },
  {
   "cell_type": "markdown",
   "id": "41012e1f",
   "metadata": {},
   "source": [
    "### All / Any"
   ]
  },
  {
   "cell_type": "code",
   "execution_count": 55,
   "id": "621004b8",
   "metadata": {
    "collapsed": true
   },
   "outputs": [
    {
     "ename": "SyntaxError",
     "evalue": "invalid syntax (1056139887.py, line 3)",
     "output_type": "error",
     "traceback": [
      "\u001b[1;36m  Cell \u001b[1;32mIn[55], line 3\u001b[1;36m\u001b[0m\n\u001b[1;33m    True -> all elements true\u001b[0m\n\u001b[1;37m         ^\u001b[0m\n\u001b[1;31mSyntaxError\u001b[0m\u001b[1;31m:\u001b[0m invalid syntax\n"
     ]
    }
   ],
   "source": [
    "all() \n",
    "\n",
    "True -> all elements true\n",
    "False -> any element false\n",
    "\n",
    "any()\n",
    "any element true -> true\n",
    "all elements  false -> False"
   ]
  },
  {
   "cell_type": "code",
   "execution_count": 42,
   "id": "0a95eb95",
   "metadata": {},
   "outputs": [],
   "source": [
    "l1 =[1,2,3,4,5]\n",
    "l2 = [1,2,6,0]"
   ]
  },
  {
   "cell_type": "code",
   "execution_count": 45,
   "id": "952d0386",
   "metadata": {},
   "outputs": [
    {
     "data": {
      "text/plain": [
       "True"
      ]
     },
     "execution_count": 45,
     "metadata": {},
     "output_type": "execute_result"
    }
   ],
   "source": [
    "all(l1)"
   ]
  },
  {
   "cell_type": "code",
   "execution_count": 46,
   "id": "f55f07d4",
   "metadata": {},
   "outputs": [
    {
     "data": {
      "text/plain": [
       "False"
      ]
     },
     "execution_count": 46,
     "metadata": {},
     "output_type": "execute_result"
    }
   ],
   "source": [
    "all(l2)"
   ]
  },
  {
   "cell_type": "code",
   "execution_count": 47,
   "id": "ae96d75d",
   "metadata": {},
   "outputs": [
    {
     "data": {
      "text/plain": [
       "True"
      ]
     },
     "execution_count": 47,
     "metadata": {},
     "output_type": "execute_result"
    }
   ],
   "source": [
    "any(l1)"
   ]
  },
  {
   "cell_type": "code",
   "execution_count": 48,
   "id": "4335bea0",
   "metadata": {},
   "outputs": [
    {
     "data": {
      "text/plain": [
       "True"
      ]
     },
     "execution_count": 48,
     "metadata": {},
     "output_type": "execute_result"
    }
   ],
   "source": [
    "any(l2)"
   ]
  },
  {
   "cell_type": "code",
   "execution_count": 49,
   "id": "86b8f399",
   "metadata": {},
   "outputs": [],
   "source": [
    "l3 = [0,0,0]"
   ]
  },
  {
   "cell_type": "code",
   "execution_count": 52,
   "id": "2752794e",
   "metadata": {},
   "outputs": [
    {
     "data": {
      "text/plain": [
       "False"
      ]
     },
     "execution_count": 52,
     "metadata": {},
     "output_type": "execute_result"
    }
   ],
   "source": [
    "any(l3)"
   ]
  },
  {
   "cell_type": "markdown",
   "id": "a6f00817",
   "metadata": {},
   "source": [
    "### Tuple"
   ]
  },
  {
   "cell_type": "code",
   "execution_count": 56,
   "id": "ec64b362",
   "metadata": {},
   "outputs": [],
   "source": [
    "tup1 = ()       #Empty tuple"
   ]
  },
  {
   "cell_type": "code",
   "execution_count": 57,
   "id": "f0a9c7c5",
   "metadata": {},
   "outputs": [
    {
     "data": {
      "text/plain": [
       "tuple"
      ]
     },
     "execution_count": 57,
     "metadata": {},
     "output_type": "execute_result"
    }
   ],
   "source": [
    "type(tup1)"
   ]
  },
  {
   "cell_type": "code",
   "execution_count": 59,
   "id": "9f34c65a",
   "metadata": {},
   "outputs": [],
   "source": [
    "tup1 = (1, 2, 3, 4)\n",
    "tup2= (1.2, 2.2, 3.2, 4.2)\n",
    "tup3= ('aa', 'bb', 'cc')\n",
    "tup4= (1, 1.2, 'aa')"
   ]
  },
  {
   "cell_type": "code",
   "execution_count": 61,
   "id": "93d4fd9b",
   "metadata": {},
   "outputs": [
    {
     "name": "stdout",
     "output_type": "stream",
     "text": [
      "(1, 2, 3, 4)\n",
      "(1.2, 2.2, 3.2, 4.2)\n",
      "('aa', 'bb', 'cc')\n",
      "(1, 1.2, 'aa')\n"
     ]
    }
   ],
   "source": [
    "print(tup1)\n",
    "print(tup2)\n",
    "print(tup3)\n",
    "print(tup4)"
   ]
  },
  {
   "cell_type": "code",
   "execution_count": 62,
   "id": "b13cca1f",
   "metadata": {},
   "outputs": [
    {
     "data": {
      "text/plain": [
       "True"
      ]
     },
     "execution_count": 62,
     "metadata": {},
     "output_type": "execute_result"
    }
   ],
   "source": [
    "# Tuple membership\n",
    "\n",
    "'aa' in tup3"
   ]
  },
  {
   "cell_type": "code",
   "execution_count": 63,
   "id": "4a1b25b0",
   "metadata": {},
   "outputs": [
    {
     "data": {
      "text/plain": [
       "2.2"
      ]
     },
     "execution_count": 63,
     "metadata": {},
     "output_type": "execute_result"
    }
   ],
   "source": [
    "#Tuple indexing\n",
    "\n",
    "tup2[1]"
   ]
  },
  {
   "cell_type": "code",
   "execution_count": 64,
   "id": "c2240d3b",
   "metadata": {},
   "outputs": [
    {
     "data": {
      "text/plain": [
       "('aa', 'bb')"
      ]
     },
     "execution_count": 64,
     "metadata": {},
     "output_type": "execute_result"
    }
   ],
   "source": [
    "#Tuple Slicing\n",
    "tup3[0:2:1]"
   ]
  },
  {
   "cell_type": "markdown",
   "id": "642718dc",
   "metadata": {},
   "source": [
    "#### Remove & Change Elements"
   ]
  },
  {
   "cell_type": "code",
   "execution_count": 65,
   "id": "0c80ad25",
   "metadata": {},
   "outputs": [],
   "source": [
    "#Tuple is immutable\n",
    "mytuple = ('AA', 'BB', 'CC', 'dd')"
   ]
  },
  {
   "cell_type": "code",
   "execution_count": 66,
   "id": "af7c4cf4",
   "metadata": {},
   "outputs": [
    {
     "ename": "TypeError",
     "evalue": "'tuple' object doesn't support item deletion",
     "output_type": "error",
     "traceback": [
      "\u001b[1;31m---------------------------------------------------------------------------\u001b[0m",
      "\u001b[1;31mTypeError\u001b[0m                                 Traceback (most recent call last)",
      "Cell \u001b[1;32mIn[66], line 1\u001b[0m\n\u001b[1;32m----> 1\u001b[0m \u001b[38;5;28;01mdel\u001b[39;00m mytuple[\u001b[38;5;241m2\u001b[39m]\n",
      "\u001b[1;31mTypeError\u001b[0m: 'tuple' object doesn't support item deletion"
     ]
    }
   ],
   "source": [
    "del mytuple[2]"
   ]
  },
  {
   "cell_type": "code",
   "execution_count": 67,
   "id": "c67dfc6b",
   "metadata": {},
   "outputs": [
    {
     "ename": "TypeError",
     "evalue": "'tuple' object does not support item assignment",
     "output_type": "error",
     "traceback": [
      "\u001b[1;31m---------------------------------------------------------------------------\u001b[0m",
      "\u001b[1;31mTypeError\u001b[0m                                 Traceback (most recent call last)",
      "Cell \u001b[1;32mIn[67], line 1\u001b[0m\n\u001b[1;32m----> 1\u001b[0m mytuple[\u001b[38;5;241m1\u001b[39m] \u001b[38;5;241m=\u001b[39m \u001b[38;5;241m1\u001b[39m\n",
      "\u001b[1;31mTypeError\u001b[0m: 'tuple' object does not support item assignment"
     ]
    }
   ],
   "source": [
    "mytuple[1] = 1"
   ]
  },
  {
   "cell_type": "code",
   "execution_count": 68,
   "id": "ce34eedc",
   "metadata": {},
   "outputs": [],
   "source": [
    "del mytuple"
   ]
  },
  {
   "cell_type": "code",
   "execution_count": 69,
   "id": "dbc973b5",
   "metadata": {},
   "outputs": [
    {
     "ename": "NameError",
     "evalue": "name 'mytuple' is not defined",
     "output_type": "error",
     "traceback": [
      "\u001b[1;31m---------------------------------------------------------------------------\u001b[0m",
      "\u001b[1;31mNameError\u001b[0m                                 Traceback (most recent call last)",
      "Cell \u001b[1;32mIn[69], line 1\u001b[0m\n\u001b[1;32m----> 1\u001b[0m mytuple\n",
      "\u001b[1;31mNameError\u001b[0m: name 'mytuple' is not defined"
     ]
    }
   ],
   "source": [
    "mytuple"
   ]
  },
  {
   "cell_type": "markdown",
   "id": "994415ad",
   "metadata": {},
   "source": [
    "### Count"
   ]
  },
  {
   "cell_type": "code",
   "execution_count": 71,
   "id": "c724d281",
   "metadata": {},
   "outputs": [],
   "source": [
    "M1 = ('Vaish', 'Krish', 'Om', 'Gayatri', 'Aditi', 'Vaish', 'Vaish')"
   ]
  },
  {
   "cell_type": "code",
   "execution_count": 72,
   "id": "b1744109",
   "metadata": {},
   "outputs": [
    {
     "data": {
      "text/plain": [
       "3"
      ]
     },
     "execution_count": 72,
     "metadata": {},
     "output_type": "execute_result"
    }
   ],
   "source": [
    "M1.count('Vaish')"
   ]
  },
  {
   "cell_type": "markdown",
   "id": "6bd22268",
   "metadata": {},
   "source": [
    "### Sorting"
   ]
  },
  {
   "cell_type": "code",
   "execution_count": 73,
   "id": "ef7959b7",
   "metadata": {},
   "outputs": [
    {
     "data": {
      "text/plain": [
       "('Vaish', 'Krish', 'Om', 'Gayatri', 'Aditi', 'Vaish', 'Vaish')"
      ]
     },
     "execution_count": 73,
     "metadata": {},
     "output_type": "execute_result"
    }
   ],
   "source": [
    "M1"
   ]
  },
  {
   "cell_type": "code",
   "execution_count": 74,
   "id": "2ea40305",
   "metadata": {},
   "outputs": [
    {
     "data": {
      "text/plain": [
       "['Aditi', 'Gayatri', 'Krish', 'Om', 'Vaish', 'Vaish', 'Vaish']"
      ]
     },
     "execution_count": 74,
     "metadata": {},
     "output_type": "execute_result"
    }
   ],
   "source": [
    "sorted(M1)"
   ]
  },
  {
   "cell_type": "code",
   "execution_count": 75,
   "id": "c61014bb",
   "metadata": {},
   "outputs": [
    {
     "data": {
      "text/plain": [
       "['Vaish', 'Vaish', 'Vaish', 'Om', 'Krish', 'Gayatri', 'Aditi']"
      ]
     },
     "execution_count": 75,
     "metadata": {},
     "output_type": "execute_result"
    }
   ],
   "source": [
    "sorted(M1, reverse = True)"
   ]
  },
  {
   "cell_type": "markdown",
   "id": "eb06b820",
   "metadata": {},
   "source": [
    "### Sets"
   ]
  },
  {
   "cell_type": "code",
   "execution_count": 76,
   "id": "13dd566f",
   "metadata": {},
   "outputs": [],
   "source": [
    "myset = {} #Empty set can't be created using curly brace"
   ]
  },
  {
   "cell_type": "code",
   "execution_count": 77,
   "id": "aad06285",
   "metadata": {},
   "outputs": [],
   "source": [
    "myset = set() # creating an empty set"
   ]
  },
  {
   "cell_type": "code",
   "execution_count": 78,
   "id": "47e0e9ae",
   "metadata": {},
   "outputs": [
    {
     "name": "stdout",
     "output_type": "stream",
     "text": [
      "<class 'set'>\n"
     ]
    }
   ],
   "source": [
    "print(type(myset))"
   ]
  },
  {
   "cell_type": "code",
   "execution_count": 79,
   "id": "546a6424",
   "metadata": {},
   "outputs": [
    {
     "data": {
      "text/plain": [
       "{1, 2, 4, 5, 6}"
      ]
     },
     "execution_count": 79,
     "metadata": {},
     "output_type": "execute_result"
    }
   ],
   "source": [
    "myset = {1, 2, 4, 2, 5, 6}\n",
    "myset               #duplicates are not allowed"
   ]
  },
  {
   "cell_type": "code",
   "execution_count": 81,
   "id": "cd472263",
   "metadata": {},
   "outputs": [
    {
     "data": {
      "text/plain": [
       "{1.2, 4.5, 7.7}"
      ]
     },
     "execution_count": 81,
     "metadata": {},
     "output_type": "execute_result"
    }
   ],
   "source": [
    "myset = {1.2, 4.5, 7.7}\n",
    "myset"
   ]
  },
  {
   "cell_type": "code",
   "execution_count": 82,
   "id": "1304188d",
   "metadata": {},
   "outputs": [
    {
     "data": {
      "text/plain": [
       "{'Aditi', 'Gayatri', 'Krish', 'Om', 'Vaish'}"
      ]
     },
     "execution_count": 82,
     "metadata": {},
     "output_type": "execute_result"
    }
   ],
   "source": [
    "myset = {'Vaish', 'Krish', 'Om', 'Gayatri', 'Aditi'}\n",
    "myset"
   ]
  },
  {
   "cell_type": "code",
   "execution_count": 83,
   "id": "5450778f",
   "metadata": {},
   "outputs": [
    {
     "data": {
      "text/plain": [
       "True"
      ]
     },
     "execution_count": 83,
     "metadata": {},
     "output_type": "execute_result"
    }
   ],
   "source": [
    "#set membership\n",
    "\n",
    "'Aditi' in myset"
   ]
  },
  {
   "cell_type": "markdown",
   "id": "799ed25f",
   "metadata": {},
   "source": [
    "### Add & Remove Elements"
   ]
  },
  {
   "cell_type": "code",
   "execution_count": 84,
   "id": "3c5c580f",
   "metadata": {},
   "outputs": [
    {
     "data": {
      "text/plain": [
       "{'Aditi', 'Gayatri', 'Krish', 'Om', 'Vaish'}"
      ]
     },
     "execution_count": 84,
     "metadata": {},
     "output_type": "execute_result"
    }
   ],
   "source": [
    "myset"
   ]
  },
  {
   "cell_type": "code",
   "execution_count": 87,
   "id": "c4e1de59",
   "metadata": {},
   "outputs": [
    {
     "data": {
      "text/plain": [
       "{'Aditi', 'Gayatri', 'Krish', 'LLL', 'Om', 'Ram', 'Vaish'}"
      ]
     },
     "execution_count": 87,
     "metadata": {},
     "output_type": "execute_result"
    }
   ],
   "source": [
    "myset.add('Ram')\n",
    "myset"
   ]
  },
  {
   "cell_type": "code",
   "execution_count": null,
   "id": "10bb877f",
   "metadata": {},
   "outputs": [],
   "source": [
    "#indexing not supported in sets\n"
   ]
  },
  {
   "cell_type": "code",
   "execution_count": 88,
   "id": "d6e3d869",
   "metadata": {},
   "outputs": [
    {
     "data": {
      "text/plain": [
       "{'Aditi', 'Gayatri', 'Krish', 'LLL', 'Om', 'Ram', 'Vaish', 'aa', 'bb', 'cc'}"
      ]
     },
     "execution_count": 88,
     "metadata": {},
     "output_type": "execute_result"
    }
   ],
   "source": [
    "myset.update(['aa', 'bb', 'cc'])\n",
    "myset"
   ]
  },
  {
   "cell_type": "code",
   "execution_count": 100,
   "id": "437da302",
   "metadata": {},
   "outputs": [
    {
     "data": {
      "text/plain": [
       "'Om'"
      ]
     },
     "execution_count": 100,
     "metadata": {},
     "output_type": "execute_result"
    }
   ],
   "source": [
    "myset.pop()  #delete random element"
   ]
  },
  {
   "cell_type": "code",
   "execution_count": 99,
   "id": "75f664b7",
   "metadata": {},
   "outputs": [
    {
     "data": {
      "text/plain": [
       "{'LLL', 'Om', 'Ram', 'aa'}"
      ]
     },
     "execution_count": 99,
     "metadata": {},
     "output_type": "execute_result"
    }
   ],
   "source": [
    "myset"
   ]
  },
  {
   "cell_type": "code",
   "execution_count": 101,
   "id": "b8d42109",
   "metadata": {},
   "outputs": [],
   "source": [
    "myset = {'Vaish', 'Krish', 'Om', 'Gayatri', 'Aditi'}"
   ]
  },
  {
   "cell_type": "code",
   "execution_count": 102,
   "id": "ac40e9e2",
   "metadata": {},
   "outputs": [
    {
     "data": {
      "text/plain": [
       "{'Aditi', 'Gayatri', 'Krish', 'Om', 'Vaish'}"
      ]
     },
     "execution_count": 102,
     "metadata": {},
     "output_type": "execute_result"
    }
   ],
   "source": [
    "myset"
   ]
  },
  {
   "cell_type": "code",
   "execution_count": 104,
   "id": "94185501",
   "metadata": {},
   "outputs": [
    {
     "ename": "KeyError",
     "evalue": "'Om'",
     "output_type": "error",
     "traceback": [
      "\u001b[1;31m---------------------------------------------------------------------------\u001b[0m",
      "\u001b[1;31mKeyError\u001b[0m                                  Traceback (most recent call last)",
      "Cell \u001b[1;32mIn[104], line 1\u001b[0m\n\u001b[1;32m----> 1\u001b[0m myset\u001b[38;5;241m.\u001b[39mremove(\u001b[38;5;124m'\u001b[39m\u001b[38;5;124mOm\u001b[39m\u001b[38;5;124m'\u001b[39m)\n\u001b[0;32m      2\u001b[0m myset\n",
      "\u001b[1;31mKeyError\u001b[0m: 'Om'"
     ]
    }
   ],
   "source": [
    "myset.remove('Om')\n",
    "myset"
   ]
  },
  {
   "cell_type": "code",
   "execution_count": 105,
   "id": "36bca2a2",
   "metadata": {},
   "outputs": [
    {
     "data": {
      "text/plain": [
       "{'Aditi', 'Gayatri', 'Krish', 'Vaish'}"
      ]
     },
     "execution_count": 105,
     "metadata": {},
     "output_type": "execute_result"
    }
   ],
   "source": [
    "myset"
   ]
  },
  {
   "cell_type": "code",
   "execution_count": 106,
   "id": "c92e4c12",
   "metadata": {},
   "outputs": [
    {
     "data": {
      "text/plain": [
       "{'Aditi', 'Gayatri', 'Krish'}"
      ]
     },
     "execution_count": 106,
     "metadata": {},
     "output_type": "execute_result"
    }
   ],
   "source": [
    "myset.discard('Vaish')\n",
    "myset"
   ]
  },
  {
   "cell_type": "code",
   "execution_count": 107,
   "id": "835aca4d",
   "metadata": {},
   "outputs": [
    {
     "data": {
      "text/plain": [
       "set()"
      ]
     },
     "execution_count": 107,
     "metadata": {},
     "output_type": "execute_result"
    }
   ],
   "source": [
    "myset.clear() #clear all elements\n",
    "myset"
   ]
  },
  {
   "cell_type": "code",
   "execution_count": 108,
   "id": "807f2b70",
   "metadata": {},
   "outputs": [],
   "source": [
    "del myset"
   ]
  },
  {
   "cell_type": "markdown",
   "id": "baaa88e0",
   "metadata": {},
   "source": [
    "### Set Operation"
   ]
  },
  {
   "cell_type": "code",
   "execution_count": 109,
   "id": "cc1a00bf",
   "metadata": {},
   "outputs": [],
   "source": [
    "A = {1,2,3,4,5}\n",
    "B = {5,6,7,8}\n",
    "C = {7,8,9}"
   ]
  },
  {
   "cell_type": "code",
   "execution_count": 110,
   "id": "683514f3",
   "metadata": {},
   "outputs": [
    {
     "data": {
      "text/plain": [
       "{1, 2, 3, 4, 5, 6, 7, 8}"
      ]
     },
     "execution_count": 110,
     "metadata": {},
     "output_type": "execute_result"
    }
   ],
   "source": [
    "A.union(B)  #Union of A & B"
   ]
  },
  {
   "cell_type": "code",
   "execution_count": 111,
   "id": "c4c86034",
   "metadata": {},
   "outputs": [
    {
     "data": {
      "text/plain": [
       "{1, 2, 3, 4, 5, 6, 7, 8, 9}"
      ]
     },
     "execution_count": 111,
     "metadata": {},
     "output_type": "execute_result"
    }
   ],
   "source": [
    "A.union(B,C)"
   ]
  },
  {
   "cell_type": "code",
   "execution_count": 112,
   "id": "f49188ca",
   "metadata": {},
   "outputs": [
    {
     "data": {
      "text/plain": [
       "{5}"
      ]
     },
     "execution_count": 112,
     "metadata": {},
     "output_type": "execute_result"
    }
   ],
   "source": [
    "A.intersection(B)"
   ]
  },
  {
   "cell_type": "code",
   "execution_count": 114,
   "id": "4e4a5994",
   "metadata": {},
   "outputs": [
    {
     "data": {
      "text/plain": [
       "{7, 8}"
      ]
     },
     "execution_count": 114,
     "metadata": {},
     "output_type": "execute_result"
    }
   ],
   "source": [
    "B.intersection(C)"
   ]
  },
  {
   "cell_type": "code",
   "execution_count": 115,
   "id": "8052bcf2",
   "metadata": {},
   "outputs": [
    {
     "data": {
      "text/plain": [
       "{1, 2, 3, 4}"
      ]
     },
     "execution_count": 115,
     "metadata": {},
     "output_type": "execute_result"
    }
   ],
   "source": [
    "A.difference(B)"
   ]
  },
  {
   "cell_type": "code",
   "execution_count": 116,
   "id": "bfe5a29b",
   "metadata": {},
   "outputs": [
    {
     "data": {
      "text/plain": [
       "{5, 6}"
      ]
     },
     "execution_count": 116,
     "metadata": {},
     "output_type": "execute_result"
    }
   ],
   "source": [
    "B.difference(C)"
   ]
  },
  {
   "cell_type": "markdown",
   "id": "ccc3267b",
   "metadata": {},
   "source": [
    "## Dictionary"
   ]
  },
  {
   "cell_type": "code",
   "execution_count": 1,
   "id": "ecc9d220",
   "metadata": {},
   "outputs": [],
   "source": [
    "mydict = dict() #empty dict\n",
    "newdict = {}"
   ]
  },
  {
   "cell_type": "code",
   "execution_count": 2,
   "id": "b3ef2cfc",
   "metadata": {},
   "outputs": [
    {
     "data": {
      "text/plain": [
       "dict"
      ]
     },
     "execution_count": 2,
     "metadata": {},
     "output_type": "execute_result"
    }
   ],
   "source": [
    "type(mydict)\n",
    "type(newdict)"
   ]
  },
  {
   "cell_type": "code",
   "execution_count": 3,
   "id": "53caabe3",
   "metadata": {},
   "outputs": [
    {
     "data": {
      "text/plain": [
       "{1: 'one', 2: 'two', 3: 'three'}"
      ]
     },
     "execution_count": 3,
     "metadata": {},
     "output_type": "execute_result"
    }
   ],
   "source": [
    "mydict = {1:'one', 2:'two', 3:'three'}\n",
    "mydict"
   ]
  },
  {
   "cell_type": "code",
   "execution_count": 4,
   "id": "bef86546",
   "metadata": {},
   "outputs": [
    {
     "data": {
      "text/plain": [
       "dict_keys([1, 2, 3])"
      ]
     },
     "execution_count": 4,
     "metadata": {},
     "output_type": "execute_result"
    }
   ],
   "source": [
    "mydict.keys() # return only key values"
   ]
  },
  {
   "cell_type": "code",
   "execution_count": 5,
   "id": "c6c8d4ad",
   "metadata": {},
   "outputs": [
    {
     "data": {
      "text/plain": [
       "dict_values(['one', 'two', 'three'])"
      ]
     },
     "execution_count": 5,
     "metadata": {},
     "output_type": "execute_result"
    }
   ],
   "source": [
    "mydict.values() #return only values"
   ]
  },
  {
   "cell_type": "code",
   "execution_count": 6,
   "id": "86493cc0",
   "metadata": {},
   "outputs": [
    {
     "data": {
      "text/plain": [
       "dict_items([(1, 'one'), (2, 'two'), (3, 'three')])"
      ]
     },
     "execution_count": 6,
     "metadata": {},
     "output_type": "execute_result"
    }
   ],
   "source": [
    "mydict.items() #returns item i.e key value pair"
   ]
  },
  {
   "cell_type": "code",
   "execution_count": 9,
   "id": "c688f75d",
   "metadata": {},
   "outputs": [],
   "source": [
    "dict = {0:{'one':1, 'two':2, 'three':3},\n",
    "        1:{'city': 'Pune', 'area': 'magarpatta'}}"
   ]
  },
  {
   "cell_type": "code",
   "execution_count": 10,
   "id": "a5d0a4eb",
   "metadata": {},
   "outputs": [
    {
     "data": {
      "text/plain": [
       "{'one': 1, 'two': 2, 'three': 3}"
      ]
     },
     "execution_count": 10,
     "metadata": {},
     "output_type": "execute_result"
    }
   ],
   "source": [
    "dict[0]"
   ]
  },
  {
   "cell_type": "code",
   "execution_count": 12,
   "id": "e48e8b8c",
   "metadata": {},
   "outputs": [
    {
     "data": {
      "text/plain": [
       "'magarpatta'"
      ]
     },
     "execution_count": 12,
     "metadata": {},
     "output_type": "execute_result"
    }
   ],
   "source": [
    "dict[1]['area']"
   ]
  },
  {
   "cell_type": "markdown",
   "id": "bf766abe",
   "metadata": {},
   "source": []
  },
  {
   "cell_type": "code",
   "execution_count": 15,
   "id": "6400b530",
   "metadata": {},
   "outputs": [
    {
     "data": {
      "text/plain": [
       "{'name': 'Vaishnavi', 'ID': 12345, 'DOB': 1991}"
      ]
     },
     "execution_count": 15,
     "metadata": {},
     "output_type": "execute_result"
    }
   ],
   "source": [
    "mydict1 = {'name': 'Vaishnavi','ID': 12345, 'DOB' : 1991}\n",
    "mydict1"
   ]
  },
  {
   "cell_type": "code",
   "execution_count": 13,
   "id": "c1cf0de4",
   "metadata": {},
   "outputs": [
    {
     "ename": "NameError",
     "evalue": "name 'mydict1' is not defined",
     "output_type": "error",
     "traceback": [
      "\u001b[1;31m---------------------------------------------------------------------------\u001b[0m",
      "\u001b[1;31mNameError\u001b[0m                                 Traceback (most recent call last)",
      "Cell \u001b[1;32mIn[13], line 1\u001b[0m\n\u001b[1;32m----> 1\u001b[0m mydict1[\u001b[38;5;124m'\u001b[39m\u001b[38;5;124mDOB\u001b[39m\u001b[38;5;124m'\u001b[39m] \u001b[38;5;241m=\u001b[39m \u001b[38;5;241m1992\u001b[39m\n\u001b[0;32m      2\u001b[0m mydict1\n",
      "\u001b[1;31mNameError\u001b[0m: name 'mydict1' is not defined"
     ]
    }
   ],
   "source": [
    "mydict1['DOB'] = 1992\n",
    "mydict1"
   ]
  },
  {
   "cell_type": "code",
   "execution_count": null,
   "id": "c75fad7c",
   "metadata": {},
   "outputs": [],
   "source": []
  }
 ],
 "metadata": {
  "kernelspec": {
   "display_name": "Python 3 (ipykernel)",
   "language": "python",
   "name": "python3"
  },
  "language_info": {
   "codemirror_mode": {
    "name": "ipython",
    "version": 3
   },
   "file_extension": ".py",
   "mimetype": "text/x-python",
   "name": "python",
   "nbconvert_exporter": "python",
   "pygments_lexer": "ipython3",
   "version": "3.11.4"
  }
 },
 "nbformat": 4,
 "nbformat_minor": 5
}
