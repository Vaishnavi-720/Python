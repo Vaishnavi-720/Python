{
 "cells": [
  {
   "cell_type": "markdown",
   "id": "4f46751c",
   "metadata": {},
   "source": [
    "# Loops"
   ]
  },
  {
   "cell_type": "markdown",
   "id": "d078a5c2",
   "metadata": {},
   "source": [
    "## While Loop"
   ]
  },
  {
   "cell_type": "code",
   "execution_count": 3,
   "id": "9343874a",
   "metadata": {},
   "outputs": [
    {
     "name": "stdout",
     "output_type": "stream",
     "text": [
      "Hello World!\n",
      "Hello World!\n",
      "Hello World!\n"
     ]
    }
   ],
   "source": [
    "print('Hello World!')\n",
    "print('Hello World!')\n",
    "print('Hello World!')"
   ]
  },
  {
   "cell_type": "code",
   "execution_count": 2,
   "id": "b89c78f8",
   "metadata": {},
   "outputs": [
    {
     "name": "stdout",
     "output_type": "stream",
     "text": [
      "Hello Python!!!\n",
      "Hello Python!!!\n",
      "Hello Python!!!\n",
      "Hello Python!!!\n",
      "Hello Python!!!\n",
      "Hello Python!!!\n",
      "Hello Python!!!\n",
      "Hello Python!!!\n",
      "Hello Python!!!\n",
      "Hello Python!!!\n"
     ]
    }
   ],
   "source": [
    "i = 10\n",
    "while i > 0 :\n",
    "    print(\"Hello Python!!!\")\n",
    "    i = i - 1"
   ]
  },
  {
   "cell_type": "code",
   "execution_count": 7,
   "id": "b69acefc",
   "metadata": {},
   "outputs": [
    {
     "name": "stdout",
     "output_type": "stream",
     "text": [
      "While Condition is true 1\n",
      "While Condition is true 2\n",
      "While Condition is true 3\n",
      "While Condition is true 4\n",
      "While Condition is true 5\n"
     ]
    }
   ],
   "source": [
    "#Simple While loop\n",
    "i=1\n",
    "while i<6:\n",
    "    print('While Condition is true', i)\n",
    "    i=i+1"
   ]
  },
  {
   "cell_type": "code",
   "execution_count": 9,
   "id": "790eb8d4",
   "metadata": {},
   "outputs": [
    {
     "name": "stdout",
     "output_type": "stream",
     "text": [
      "1\n",
      "2\n"
     ]
    }
   ],
   "source": [
    "i=1\n",
    "while i<6:\n",
    "    if i==3:\n",
    "        break\n",
    "    print(i)\n",
    "    i+=1\n",
    "    "
   ]
  },
  {
   "cell_type": "code",
   "execution_count": 12,
   "id": "50d410c3",
   "metadata": {},
   "outputs": [
    {
     "name": "stdout",
     "output_type": "stream",
     "text": [
      "1\n",
      "2\n",
      "4\n",
      "5\n",
      "6\n"
     ]
    }
   ],
   "source": [
    "#While with continue statement\n",
    "\n",
    "i=0\n",
    "while i<6:\n",
    "    i+=1\n",
    "    if i == 3:\n",
    "        continue\n",
    "    print(i)\n"
   ]
  },
  {
   "cell_type": "code",
   "execution_count": 13,
   "id": "29ba65eb",
   "metadata": {},
   "outputs": [
    {
     "name": "stdout",
     "output_type": "stream",
     "text": [
      "2\n",
      "3\n",
      "4\n",
      "5\n",
      "6\n",
      "While loop condition is false\n"
     ]
    }
   ],
   "source": [
    "#While loop with else statement\n",
    "\n",
    "i=1\n",
    "while i < 6:\n",
    "    i= i+1\n",
    "    print(i)\n",
    "else :\n",
    "    print('While loop condition is false')"
   ]
  },
  {
   "cell_type": "code",
   "execution_count": 14,
   "id": "08bd5649",
   "metadata": {},
   "outputs": [
    {
     "name": "stdout",
     "output_type": "stream",
     "text": [
      "Data Science\n",
      "Data Science\n"
     ]
    }
   ],
   "source": [
    "count = 1\n",
    "while (count < 3):\n",
    "    count = count + 1\n",
    "    print(\"Data Science\")"
   ]
  },
  {
   "cell_type": "markdown",
   "id": "e92a5803",
   "metadata": {},
   "source": [
    "#### Prime number using while loop"
   ]
  },
  {
   "cell_type": "code",
   "execution_count": 3,
   "id": "755dbb9c",
   "metadata": {},
   "outputs": [
    {
     "name": "stdout",
     "output_type": "stream",
     "text": [
      "Enter a number : 7\n",
      "7 is a Prime number\n"
     ]
    }
   ],
   "source": [
    "num = int(input('Enter a number : '))\n",
    "i=2\n",
    "j=0\n",
    "while i<=num/2:\n",
    "    if num%2==0:\n",
    "        print(i,'is a factor of', num)\n",
    "        j=1\n",
    "        break\n",
    "    i=i+1\n",
    "    \n",
    "if j == 0:\n",
    "    print(num,'is a Prime number')\n",
    "else :\n",
    "    print(num, 'is a composite number')"
   ]
  },
  {
   "cell_type": "markdown",
   "id": "cf610d0f",
   "metadata": {},
   "source": [
    "### For loop"
   ]
  },
  {
   "cell_type": "code",
   "execution_count": 5,
   "id": "11dac6a1",
   "metadata": {},
   "outputs": [
    {
     "name": "stdout",
     "output_type": "stream",
     "text": [
      "apple\n",
      "banana\n",
      "chickoo\n",
      "Mango\n"
     ]
    }
   ],
   "source": [
    "fruits = ['apple', 'banana', 'chickoo', 'Mango']\n",
    "for i in fruits:\n",
    "    print(i)"
   ]
  },
  {
   "cell_type": "code",
   "execution_count": 6,
   "id": "fc779be7",
   "metadata": {},
   "outputs": [
    {
     "name": "stdout",
     "output_type": "stream",
     "text": [
      "1\n",
      "2\n",
      "3\n",
      "4\n",
      "5\n",
      "6\n",
      "7\n",
      "8\n",
      "9\n",
      "10\n"
     ]
    }
   ],
   "source": [
    "queue = [1,2,3,4,5,6,7,8,9,10]\n",
    "for j in queue:\n",
    "    print(j)"
   ]
  },
  {
   "cell_type": "code",
   "execution_count": 7,
   "id": "21529aea",
   "metadata": {},
   "outputs": [
    {
     "data": {
      "text/plain": [
       "range(1, 10)"
      ]
     },
     "execution_count": 7,
     "metadata": {},
     "output_type": "execute_result"
    }
   ],
   "source": [
    "range(1,10)"
   ]
  },
  {
   "cell_type": "code",
   "execution_count": 8,
   "id": "f91c8917",
   "metadata": {},
   "outputs": [
    {
     "name": "stdout",
     "output_type": "stream",
     "text": [
      "1\n",
      "2\n",
      "3\n",
      "4\n",
      "5\n",
      "6\n",
      "7\n",
      "8\n",
      "9\n"
     ]
    }
   ],
   "source": [
    "for i in range(1,10):\n",
    "    print(i)"
   ]
  },
  {
   "cell_type": "code",
   "execution_count": 11,
   "id": "02b45790",
   "metadata": {},
   "outputs": [
    {
     "name": "stdout",
     "output_type": "stream",
     "text": [
      "2\n",
      "4\n",
      "6\n",
      "8\n",
      "10\n",
      "12\n",
      "14\n",
      "16\n",
      "18\n",
      "20\n",
      "22\n",
      "24\n",
      "26\n",
      "28\n",
      "30\n",
      "32\n",
      "34\n",
      "36\n",
      "38\n",
      "40\n",
      "42\n",
      "44\n",
      "46\n",
      "48\n",
      "50\n",
      "52\n",
      "54\n",
      "56\n",
      "58\n",
      "60\n",
      "62\n",
      "64\n",
      "66\n",
      "68\n",
      "70\n",
      "72\n",
      "74\n",
      "76\n",
      "78\n",
      "80\n",
      "82\n",
      "84\n",
      "86\n",
      "88\n",
      "90\n",
      "92\n",
      "94\n",
      "96\n",
      "98\n"
     ]
    }
   ],
   "source": [
    "for i in range(2,100,2):\n",
    "    print(i)"
   ]
  },
  {
   "cell_type": "code",
   "execution_count": 12,
   "id": "64e41515",
   "metadata": {},
   "outputs": [
    {
     "name": "stdout",
     "output_type": "stream",
     "text": [
      "Enter a number :24\n",
      "24\n",
      "48\n",
      "72\n",
      "96\n",
      "120\n",
      "144\n",
      "168\n",
      "192\n",
      "216\n",
      "240\n"
     ]
    }
   ],
   "source": [
    "#table of entered number\n",
    "x =int(input('Enter a number :'))\n",
    "for i in range(1,11):\n",
    "    print(i * x)"
   ]
  },
  {
   "cell_type": "code",
   "execution_count": 14,
   "id": "3eae90d4",
   "metadata": {},
   "outputs": [
    {
     "name": "stdout",
     "output_type": "stream",
     "text": [
      "2\n",
      "4\n",
      "6\n",
      "8\n",
      "10\n",
      "12\n",
      "14\n",
      "16\n",
      "18\n",
      "20\n"
     ]
    }
   ],
   "source": [
    "for i in range(2,21,2):\n",
    "    print(i)"
   ]
  },
  {
   "cell_type": "code",
   "execution_count": 16,
   "id": "ee3abdf2",
   "metadata": {},
   "outputs": [
    {
     "name": "stdout",
     "output_type": "stream",
     "text": [
      "34\n",
      "68\n",
      "102\n",
      "136\n",
      "170\n",
      "204\n",
      "238\n",
      "272\n",
      "306\n",
      "340\n"
     ]
    }
   ],
   "source": [
    "#Task print 34 range\n",
    "for i in range(34,341,34):\n",
    "    print(i)"
   ]
  },
  {
   "cell_type": "code",
   "execution_count": 17,
   "id": "b1f5047b",
   "metadata": {
    "collapsed": true
   },
   "outputs": [
    {
     "name": "stdout",
     "output_type": "stream",
     "text": [
      "Maths 34\n",
      "Maths 35\n",
      "Maths 36\n",
      "Maths 37\n",
      "Science 34\n",
      "Science 35\n",
      "Science 36\n",
      "Science 37\n"
     ]
    }
   ],
   "source": [
    "#Nested Loop\n",
    "list1 =['Maths','Science']\n",
    "list2 =[34,35,36,37]\n",
    "for i in list1:\n",
    "    for k in list2:\n",
    "        print(i,k)"
   ]
  },
  {
   "cell_type": "code",
   "execution_count": 56,
   "id": "7fb8b6c0",
   "metadata": {
    "collapsed": true
   },
   "outputs": [
    {
     "name": "stdout",
     "output_type": "stream",
     "text": [
      "1 is an odd number\n",
      "2 is a Even number\n",
      "3 is an odd number\n",
      "4 is a Even number\n",
      "5 is an odd number\n",
      "6 is a Even number\n",
      "7 is an odd number\n",
      "8 is a Even number\n",
      "9 is an odd number\n",
      "10 is a Even number\n",
      "11 is an odd number\n",
      "12 is a Even number\n",
      "13 is an odd number\n",
      "14 is a Even number\n",
      "15 is an odd number\n",
      "16 is a Even number\n",
      "17 is an odd number\n",
      "18 is a Even number\n",
      "19 is an odd number\n",
      "20 is a Even number\n",
      "21 is an odd number\n",
      "22 is a Even number\n",
      "23 is an odd number\n",
      "24 is a Even number\n",
      "25 is an odd number\n",
      "26 is a Even number\n",
      "27 is an odd number\n",
      "28 is a Even number\n",
      "29 is an odd number\n",
      "30 is a Even number\n",
      "31 is an odd number\n",
      "32 is a Even number\n",
      "33 is an odd number\n",
      "34 is a Even number\n",
      "35 is an odd number\n",
      "36 is a Even number\n",
      "37 is an odd number\n",
      "38 is a Even number\n",
      "39 is an odd number\n",
      "40 is a Even number\n",
      "41 is an odd number\n",
      "42 is a Even number\n",
      "43 is an odd number\n",
      "44 is a Even number\n",
      "45 is an odd number\n",
      "46 is a Even number\n",
      "47 is an odd number\n",
      "48 is a Even number\n",
      "49 is an odd number\n",
      "50 is a Even number\n",
      "51 is an odd number\n",
      "52 is a Even number\n",
      "53 is an odd number\n",
      "54 is a Even number\n",
      "55 is an odd number\n",
      "56 is a Even number\n",
      "57 is an odd number\n",
      "58 is a Even number\n",
      "59 is an odd number\n",
      "60 is a Even number\n",
      "61 is an odd number\n",
      "62 is a Even number\n",
      "63 is an odd number\n",
      "64 is a Even number\n",
      "65 is an odd number\n",
      "66 is a Even number\n",
      "67 is an odd number\n",
      "68 is a Even number\n",
      "69 is an odd number\n",
      "70 is a Even number\n",
      "71 is an odd number\n",
      "72 is a Even number\n",
      "73 is an odd number\n",
      "74 is a Even number\n",
      "75 is an odd number\n",
      "76 is a Even number\n",
      "77 is an odd number\n",
      "78 is a Even number\n",
      "79 is an odd number\n",
      "80 is a Even number\n",
      "81 is an odd number\n",
      "82 is a Even number\n",
      "83 is an odd number\n",
      "84 is a Even number\n",
      "85 is an odd number\n",
      "86 is a Even number\n",
      "87 is an odd number\n",
      "88 is a Even number\n",
      "89 is an odd number\n",
      "90 is a Even number\n",
      "91 is an odd number\n",
      "92 is a Even number\n",
      "93 is an odd number\n",
      "94 is a Even number\n",
      "95 is an odd number\n",
      "96 is a Even number\n",
      "97 is an odd number\n",
      "98 is a Even number\n",
      "99 is an odd number\n"
     ]
    }
   ],
   "source": [
    "#Odd Even\n",
    "for i in range(1,100):\n",
    "    if (i%2==0):\n",
    "        print(i,'is a Even number')\n",
    "    else :\n",
    "        print(i, 'is an odd number')"
   ]
  },
  {
   "cell_type": "markdown",
   "id": "b26528ca",
   "metadata": {},
   "source": [
    "## Functions"
   ]
  },
  {
   "cell_type": "code",
   "execution_count": 19,
   "id": "7fdf6496",
   "metadata": {},
   "outputs": [],
   "source": [
    "#User defined Functions"
   ]
  },
  {
   "cell_type": "code",
   "execution_count": 20,
   "id": "2af03e11",
   "metadata": {},
   "outputs": [],
   "source": [
    "#syntax defn of function\n",
    "def name_of_function():\n",
    "    print('Hello')"
   ]
  },
  {
   "cell_type": "code",
   "execution_count": 22,
   "id": "520e5292",
   "metadata": {},
   "outputs": [
    {
     "name": "stdout",
     "output_type": "stream",
     "text": [
      "Hello\n"
     ]
    }
   ],
   "source": [
    "#syntax calling the function\n",
    "name_of_function()"
   ]
  },
  {
   "cell_type": "code",
   "execution_count": 26,
   "id": "273f0c29",
   "metadata": {},
   "outputs": [],
   "source": [
    "#create a functn with name as your name\n",
    "## andwhich print your name\n",
    "\n",
    "def vaishnavi():\n",
    "    print('Vaishnavi')\n",
    "\n"
   ]
  },
  {
   "cell_type": "code",
   "execution_count": 27,
   "id": "3f0551e9",
   "metadata": {},
   "outputs": [
    {
     "name": "stdout",
     "output_type": "stream",
     "text": [
      "Vaishnavi\n"
     ]
    }
   ],
   "source": [
    "vaishnavi()"
   ]
  },
  {
   "cell_type": "code",
   "execution_count": 32,
   "id": "89717cfc",
   "metadata": {},
   "outputs": [],
   "source": [
    "#Function with argument & return value\n",
    "def area_of_circle(r):\n",
    "    area = 3.14*r*r\n",
    "    return area"
   ]
  },
  {
   "cell_type": "code",
   "execution_count": 33,
   "id": "aebecd1c",
   "metadata": {},
   "outputs": [
    {
     "data": {
      "text/plain": [
       "12.56"
      ]
     },
     "execution_count": 33,
     "metadata": {},
     "output_type": "execute_result"
    }
   ],
   "source": [
    "area_of_circle(2)"
   ]
  },
  {
   "cell_type": "code",
   "execution_count": 34,
   "id": "30a04fcd",
   "metadata": {},
   "outputs": [],
   "source": [
    "def perimeter_of_square(side):\n",
    "    peri = side*4\n",
    "    print(peri)"
   ]
  },
  {
   "cell_type": "code",
   "execution_count": 35,
   "id": "7894805c",
   "metadata": {},
   "outputs": [
    {
     "name": "stdout",
     "output_type": "stream",
     "text": [
      "20\n"
     ]
    }
   ],
   "source": [
    "perimeter_of_square(5)"
   ]
  },
  {
   "cell_type": "code",
   "execution_count": 37,
   "id": "9c2abb1e",
   "metadata": {},
   "outputs": [],
   "source": [
    "def rectangle(l,b):\n",
    "    area=l*b\n",
    "    return area"
   ]
  },
  {
   "cell_type": "code",
   "execution_count": 39,
   "id": "9c33159d",
   "metadata": {},
   "outputs": [
    {
     "data": {
      "text/plain": [
       "14"
      ]
     },
     "execution_count": 39,
     "metadata": {},
     "output_type": "execute_result"
    }
   ],
   "source": [
    "rectangle(2,7)"
   ]
  },
  {
   "cell_type": "code",
   "execution_count": 40,
   "id": "bf8a58fc",
   "metadata": {},
   "outputs": [],
   "source": [
    "#Task -> write a function to get a number from users & check whetther given no is even or odd"
   ]
  },
  {
   "cell_type": "code",
   "execution_count": 41,
   "id": "1f556354",
   "metadata": {},
   "outputs": [],
   "source": [
    "def evenodd():\n",
    "    a = int(input(\"Enter a number:\"))\n",
    "    if a%2==0:\n",
    "        print(\"Even\")\n",
    "    else:\n",
    "        print('odd')"
   ]
  },
  {
   "cell_type": "code",
   "execution_count": 42,
   "id": "6859f627",
   "metadata": {},
   "outputs": [
    {
     "name": "stdout",
     "output_type": "stream",
     "text": [
      "Enter a number:45\n",
      "odd\n"
     ]
    }
   ],
   "source": [
    "evenodd()"
   ]
  },
  {
   "cell_type": "code",
   "execution_count": 43,
   "id": "786f6541",
   "metadata": {},
   "outputs": [],
   "source": [
    "#python function with no argument & no return value\n",
    "\n",
    "def noargument():\n",
    "    print()"
   ]
  },
  {
   "cell_type": "code",
   "execution_count": 44,
   "id": "c9683154",
   "metadata": {},
   "outputs": [
    {
     "name": "stdout",
     "output_type": "stream",
     "text": [
      "\n"
     ]
    }
   ],
   "source": [
    "noargument()"
   ]
  },
  {
   "cell_type": "code",
   "execution_count": 46,
   "id": "0b72948c",
   "metadata": {},
   "outputs": [],
   "source": [
    "#Function with no argument and with a return value\n",
    "\n",
    "def argu():\n",
    "    print('this is no argument bt return value function')"
   ]
  },
  {
   "cell_type": "code",
   "execution_count": 47,
   "id": "53fad26a",
   "metadata": {},
   "outputs": [
    {
     "name": "stdout",
     "output_type": "stream",
     "text": [
      "this is no argument bt return value function\n"
     ]
    }
   ],
   "source": [
    "argu()"
   ]
  },
  {
   "cell_type": "code",
   "execution_count": 48,
   "id": "ff104ad0",
   "metadata": {},
   "outputs": [],
   "source": [
    "#with argument & no return value\n",
    "\n",
    "def noreturn(a):\n",
    "    print()"
   ]
  },
  {
   "cell_type": "code",
   "execution_count": 49,
   "id": "98689d3d",
   "metadata": {},
   "outputs": [
    {
     "name": "stdout",
     "output_type": "stream",
     "text": [
      "\n"
     ]
    }
   ],
   "source": [
    "noreturn(7)"
   ]
  },
  {
   "cell_type": "code",
   "execution_count": 53,
   "id": "7d14f49b",
   "metadata": {},
   "outputs": [],
   "source": [
    "def prime():\n",
    "    num = int(input('Enter a number : '))\n",
    "    i=2\n",
    "    j=0\n",
    "    while i<=num/2:\n",
    "        if num%2==0:\n",
    "            print(i,'is a factor of', num)\n",
    "            j=1\n",
    "            #break\n",
    "        i=i+1\n",
    "    \n",
    "    if j == 0:\n",
    "        print(num,'is a Prime number')\n",
    "    else :\n",
    "        print(num, 'is a composite number')"
   ]
  },
  {
   "cell_type": "code",
   "execution_count": 54,
   "id": "07884a2c",
   "metadata": {},
   "outputs": [
    {
     "name": "stdout",
     "output_type": "stream",
     "text": [
      "Enter a number : 9\n",
      "9 is a Prime number\n"
     ]
    }
   ],
   "source": [
    "prime()"
   ]
  },
  {
   "cell_type": "markdown",
   "id": "858a4049",
   "metadata": {},
   "source": [
    "### Docstring"
   ]
  },
  {
   "cell_type": "code",
   "execution_count": 61,
   "id": "e47130e0",
   "metadata": {},
   "outputs": [],
   "source": [
    "#function with argument and return value\n",
    "def squareofnum(a):\n",
    "    '''Square Function :-> This function will return the square of number'''\n",
    "    #print(a**2)\n",
    "    return a**2"
   ]
  },
  {
   "cell_type": "code",
   "execution_count": 62,
   "id": "5932cac8",
   "metadata": {},
   "outputs": [
    {
     "data": {
      "text/plain": [
       "64"
      ]
     },
     "execution_count": 62,
     "metadata": {},
     "output_type": "execute_result"
    }
   ],
   "source": [
    "squareofnum(8)"
   ]
  },
  {
   "cell_type": "code",
   "execution_count": 65,
   "id": "9858ad27",
   "metadata": {},
   "outputs": [],
   "source": [
    "q = squareofnum(9)"
   ]
  },
  {
   "cell_type": "code",
   "execution_count": 66,
   "id": "daa0b392",
   "metadata": {},
   "outputs": [
    {
     "name": "stdout",
     "output_type": "stream",
     "text": [
      "81\n"
     ]
    }
   ],
   "source": [
    "print(q)"
   ]
  },
  {
   "cell_type": "code",
   "execution_count": 67,
   "id": "4908703e",
   "metadata": {},
   "outputs": [
    {
     "name": "stdout",
     "output_type": "stream",
     "text": [
      "Square Function :-> This function will return the square of number\n"
     ]
    }
   ],
   "source": [
    "#to see docstring\n",
    "print(squareofnum.__doc__)"
   ]
  },
  {
   "cell_type": "code",
   "execution_count": 68,
   "id": "609c4af7",
   "metadata": {},
   "outputs": [
    {
     "name": "stdout",
     "output_type": "stream",
     "text": [
      "Help on function squareofnum in module __main__:\n",
      "\n",
      "squareofnum(a)\n",
      "    Square Function :-> This function will return the square of number\n",
      "\n"
     ]
    }
   ],
   "source": [
    "help(squareofnum)"
   ]
  },
  {
   "cell_type": "markdown",
   "id": "1aedfec2",
   "metadata": {},
   "source": [
    "### Anonymus Functions :-> Lambda"
   ]
  },
  {
   "cell_type": "code",
   "execution_count": 69,
   "id": "8ed6f8bb",
   "metadata": {},
   "outputs": [],
   "source": [
    "addition = lambda a : a + 10\n",
    "#This lambda function adds 10 to argument"
   ]
  },
  {
   "cell_type": "code",
   "execution_count": 70,
   "id": "acd85a4c",
   "metadata": {},
   "outputs": [
    {
     "name": "stdout",
     "output_type": "stream",
     "text": [
      "20\n"
     ]
    }
   ],
   "source": [
    "print(addition(10))"
   ]
  },
  {
   "cell_type": "code",
   "execution_count": 71,
   "id": "47437137",
   "metadata": {},
   "outputs": [
    {
     "data": {
      "text/plain": [
       "20"
      ]
     },
     "execution_count": 71,
     "metadata": {},
     "output_type": "execute_result"
    }
   ],
   "source": [
    "addition(10)"
   ]
  },
  {
   "cell_type": "code",
   "execution_count": 83,
   "id": "c140b537",
   "metadata": {},
   "outputs": [],
   "source": [
    "product = lambda a, b : a * b"
   ]
  },
  {
   "cell_type": "code",
   "execution_count": 84,
   "id": "0b66d667",
   "metadata": {},
   "outputs": [
    {
     "name": "stdout",
     "output_type": "stream",
     "text": [
      "144\n"
     ]
    }
   ],
   "source": [
    "print(product(12,12))"
   ]
  },
  {
   "cell_type": "markdown",
   "id": "a4b114fc",
   "metadata": {},
   "source": [
    "### Filter"
   ]
  },
  {
   "cell_type": "code",
   "execution_count": 80,
   "id": "fc387fef",
   "metadata": {},
   "outputs": [
    {
     "name": "stdout",
     "output_type": "stream",
     "text": [
      "[1, 3, 5]\n",
      "[0, 2, 4, 56, 6]\n"
     ]
    }
   ],
   "source": [
    "seq = [0,1,2,3,4,5,56,6]\n",
    "result = filter(lambda x : x % 2 != 0, seq)\n",
    "print(list(result))\n",
    "\n",
    "result = filter(lambda x : x % 2 == 0, seq)\n",
    "print(list(result))"
   ]
  },
  {
   "cell_type": "markdown",
   "id": "96256a83",
   "metadata": {},
   "source": [
    "### Map"
   ]
  },
  {
   "cell_type": "code",
   "execution_count": 85,
   "id": "f223cd3d",
   "metadata": {},
   "outputs": [
    {
     "name": "stdout",
     "output_type": "stream",
     "text": [
      "[2, 4, 6, 8, 10]\n"
     ]
    }
   ],
   "source": [
    "#Double all number using map & lambda\n",
    "numbers = (1,2,3,4,5)\n",
    "result = map(lambda x: x+x, numbers)\n",
    "print(list(result))"
   ]
  },
  {
   "cell_type": "code",
   "execution_count": 86,
   "id": "722d90a5",
   "metadata": {},
   "outputs": [
    {
     "name": "stdout",
     "output_type": "stream",
     "text": [
      "[['s', 'a', 't'], ['b', 'a', 't'], ['c', 'a', 't'], ['m', 'a', 't']]\n"
     ]
    }
   ],
   "source": [
    "l = ['sat', 'bat', 'cat', 'mat']\n",
    "test = list(map(list,l))\n",
    "print(test)"
   ]
  },
  {
   "cell_type": "markdown",
   "id": "133c352a",
   "metadata": {},
   "source": [
    "### Reduce Function"
   ]
  },
  {
   "cell_type": "code",
   "execution_count": 87,
   "id": "5da4a3cb",
   "metadata": {},
   "outputs": [
    {
     "name": "stdout",
     "output_type": "stream",
     "text": [
      "the sum of the list elements is : 28\n"
     ]
    }
   ],
   "source": [
    "import functools\n",
    "\n",
    "list = [1,2,3,4,5,7,6]\n",
    "\n",
    "print(\"the sum of the list elements is : \", end=\"\")\n",
    "print(functools.reduce(lambda a, b: a+b, list))"
   ]
  },
  {
   "cell_type": "code",
   "execution_count": 88,
   "id": "d92fc6f8",
   "metadata": {},
   "outputs": [
    {
     "name": "stdout",
     "output_type": "stream",
     "text": [
      "The maxm element of the list is :-> 7\n"
     ]
    }
   ],
   "source": [
    "print(\"The maxm element of the list is :-> \", end='')\n",
    "print(functools.reduce(lambda a, b : a if a > b else b, list))"
   ]
  },
  {
   "cell_type": "code",
   "execution_count": null,
   "id": "e6d0f137",
   "metadata": {},
   "outputs": [],
   "source": []
  }
 ],
 "metadata": {
  "kernelspec": {
   "display_name": "Python 3 (ipykernel)",
   "language": "python",
   "name": "python3"
  },
  "language_info": {
   "codemirror_mode": {
    "name": "ipython",
    "version": 3
   },
   "file_extension": ".py",
   "mimetype": "text/x-python",
   "name": "python",
   "nbconvert_exporter": "python",
   "pygments_lexer": "ipython3",
   "version": "3.11.4"
  }
 },
 "nbformat": 4,
 "nbformat_minor": 5
}
